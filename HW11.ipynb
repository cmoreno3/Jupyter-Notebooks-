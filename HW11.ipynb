{
 "cells": [
  {
   "cell_type": "markdown",
   "metadata": {},
   "source": [
    "# Chem 30324, Spring 2018, Homework 11\n"
   ]
  },
  {
   "cell_type": "markdown",
   "metadata": {},
   "source": [
    "# Due May 4 2018"
   ]
  },
  {
   "cell_type": "markdown",
   "metadata": {},
   "source": [
    "## Equilibrium constants from first principles.\n",
    "### In 1996, Schneider and co-workers used quantum chemistry to compute the reaction pathway for unimolecular decomposition of trifluoromethanol, a reaction of relevance to the atmospheric degradation of hydrofluorocarbon refrigerants (*J. Phys. Chem.* **1996**, *100*, 6097- 6103, [doi:10.1021/jp952703m](https://pubs.acs.org/doi/abs/10.1021/jp952703m)): $$\\mathrm{CF_3OH\\rightarrow COF_2 + HF}$$\n",
    "### Following are some of the reported results, computed at 298 K:"
   ]
  },
  {
   "cell_type": "code",
   "execution_count": 1,
   "metadata": {},
   "outputs": [
    {
     "data": {
      "text/html": [
       "<img src=\"HW11.png\"/>"
      ],
      "text/plain": [
       "<IPython.core.display.Image object>"
      ]
     },
     "execution_count": 1,
     "metadata": {},
     "output_type": "execute_result"
    }
   ],
   "source": [
    "from IPython.display import Image\n",
    "img = 'HW11.png'\n",
    "Image(url=img)"
   ]
  },
  {
   "cell_type": "markdown",
   "metadata": {},
   "source": [
    "### 1. Estimate $\\Delta S^{\\circ}$(298 K), in J mol$^{-1}$ K $^{-1}$ , assuming a 1 bar standard state. (*Hint:* What degrees of freedom will dominate the entropy?)"
   ]
  },
  {
   "cell_type": "markdown",
   "metadata": {},
   "source": [
    "The entropy can be taken as the products minus the reagents of each of the individual rotational, translational, vibrational, ZPE & electronic entropies.\n",
    "\n",
    "To calculate for $\\Delta S^{\\circ}$ rotational, we must calculate $\\Lambda$"
   ]
  },
  {
   "cell_type": "code",
   "execution_count": 48,
   "metadata": {},
   "outputs": [
    {
     "name": "stdout",
     "output_type": "stream",
     "text": [
      "-777.32 is the entropy in J/mol-K\n"
     ]
    }
   ],
   "source": [
    "import math\n",
    "Nav = 6.02214*10**(23)\n",
    "k = 1.38065*10**(-23)\n",
    "h = 6.62607 * 10**(-34) # J-s\n",
    "T = 298 # K\n",
    "e = 1.609*10**(-19)\n",
    "beta = 1/(k * T)\n",
    "m = [20.01, 66.01, 86.01]\n",
    "P = 100000 # Pa\n",
    "R = 8.314 # J/mol-K\n",
    "\n",
    "lamb = []\n",
    "def lamb_func(m): \n",
    "    return h * (beta * Nav/(2 * math.pi * m/1000))**(1/2)\n",
    "\n",
    "lamb_1 = lamb_func(m[0])\n",
    "lamb_2 = lamb_func(m[1])\n",
    "lamb_3 = lamb_func(m[2])\n",
    "\n",
    "def S_trans(lambs):\n",
    "    return R * math.log(e**(5/2) * k * T/(P * lambs**3))\n",
    "\n",
    "S_1 = S_trans(lamb_1)\n",
    "S_2 = S_trans(lamb_2)\n",
    "S_3 = S_trans(lamb_3)\n",
    "\n",
    "S_trans = S_1 + S_2 - S_3\n",
    "print(round(S_trans,2) ,'is the entropy in J/mol-K') # J/mol-K"
   ]
  },
  {
   "cell_type": "markdown",
   "metadata": {},
   "source": [
    "### 2. Using the data provided, determine $\\Delta U^{\\circ}$(298 K) and $\\Delta H^{\\circ}$(298 K), in kJ mol$^{-1}$."
   ]
  },
  {
   "cell_type": "code",
   "execution_count": 50,
   "metadata": {},
   "outputs": [
    {
     "name": "stdout",
     "output_type": "stream",
     "text": [
      "18.64 kJ/mol\n"
     ]
    }
   ],
   "source": [
    "hartreetokjmol = 2625.5 \n",
    "delta_E_el = -100.31885 - 312.57028 + 412.90047\n",
    "delta_E_el_kj = delta_E_el * hartreetokjmol\n",
    "delta_ZPE = (0.00925 + 0.01422 - 0.02889) * hartreetokjmol\n",
    "delta_u_trans = 3.7 + 3.7 - 3.7\n",
    "delta_u_rot = 2.5 + 3.7 - 3.7\n",
    "delta_u_vib = 0 + 1.2 - 4.3\n",
    "\n",
    "delta_u = delta_E_el_kj + delta_u_trans + delta_u_rot + delta_u_vib + delta_ZPE\n",
    "print(round(delta_u, 2), 'kJ/mol')# kJ/mol\n"
   ]
  },
  {
   "cell_type": "markdown",
   "metadata": {},
   "source": [
    "### 3. Using the data provided, determine $K_c$ (298 K), assuming a 1 mole/liter standard state."
   ]
  },
  {
   "cell_type": "code",
   "execution_count": 57,
   "metadata": {},
   "outputs": [
    {
     "name": "stdout",
     "output_type": "stream",
     "text": [
      "17593028830681.9\n"
     ]
    }
   ],
   "source": [
    "import numpy as np\n",
    "knew = 8.61734e-5\n",
    "newbeta = knew * T\n",
    "qt_a = 7.72e32\n",
    "qr_a = 61830\n",
    "qv_a = 2.33\n",
    "\n",
    "qt_c = 1.59e32\n",
    "qr_c = 679\n",
    "qv_c = 1.16\n",
    "\n",
    "qt_d = 8.65e31\n",
    "qr_d = 9.59\n",
    "qv_d = 1\n",
    "\n",
    "qa = qt_a * qr_a * qv_a\n",
    "qc = qt_c * qr_c * qv_c\n",
    "qd = qt_d * qr_d * qv_d\n",
    "kJtoeV = 96.485\n",
    "\n",
    "k = (qc * qd/qa) * np.exp((-(delta_E_el_kj+ delta_ZPE) * kJtoeV * newbeta))\n",
    "print(k)"
   ]
  },
  {
   "cell_type": "markdown",
   "metadata": {},
   "source": [
    "### 4. 1 mole of CF$_3$OH is generated in a 20 L vessel at 298 K and left long enough to come to equilibrium with respect to its decomposition reaction. What is the composition of the gas (concentrations of all the components) at equilibrium (in mol/L)?"
   ]
  },
  {
   "cell_type": "code",
   "execution_count": 56,
   "metadata": {},
   "outputs": [
    {
     "name": "stdout",
     "output_type": "stream",
     "text": [
      "The solution is 351860576614.0 Mol^-1\n"
     ]
    }
   ],
   "source": [
    "k = 20* (qc * qd/qa) * np.exp((-(delta_E_el_kj+ delta_ZPE) * kJtoeV * newbeta))/ 1000\n",
    "\n",
    "import cmath\n",
    "\n",
    "a = 1\n",
    "b = -k\n",
    "c = 0\n",
    "\n",
    "# calculate the discriminant\n",
    "d = (b**2) - (4*a*c)\n",
    "\n",
    "sol2 = (-b+cmath.sqrt(d))/(2*a)\n",
    "\n",
    "print('The solution is', round(abs(sol2)), 'Mol^-1')\n"
   ]
  },
  {
   "cell_type": "markdown",
   "metadata": {},
   "source": [
    "### 5. How, directionally, would your answer to Question 4 change if the vessel was at a higher temperature? Why, in statistical mechanical terms?"
   ]
  },
  {
   "cell_type": "markdown",
   "metadata": {},
   "source": [
    "If the temperature increases, the reaction is shifted toward the products. Since the value of intenral energy is positive (the products are at higher energy than the reagents), raising the temperature blurs the energy difference and causes the endothermic reaction to push toward the products. "
   ]
  },
  {
   "cell_type": "markdown",
   "metadata": {},
   "source": [
    "### 6. How, directionally, would your answer to Question 4 change if the vessel had a volume of 5 L? Why, in statistical mechanical terms?"
   ]
  },
  {
   "cell_type": "markdown",
   "metadata": {},
   "source": [
    "If the volume increases, the vessel shifts toward the left. Entropy would favor having more products present, so reducing the volume requires a shift toward fewer products (the left)."
   ]
  },
  {
   "cell_type": "markdown",
   "metadata": {},
   "source": [
    "## Chemical kinetics from first principles.\n",
    "### While chemical equilibrium describes what can happen, chemical kinetics determines what *will* happen. The same paper reports results for the transition state for the unimolecular decomposition reaction, also shown in the table above."
   ]
  },
  {
   "cell_type": "markdown",
   "metadata": {},
   "source": [
    "### 7. Provide a rough sketch of what you expect the transition state to look like."
   ]
  },
  {
   "cell_type": "code",
   "execution_count": 58,
   "metadata": {},
   "outputs": [
    {
     "data": {
      "text/html": [
       "<img src=\"IMG_0433.jpg\"/>"
      ],
      "text/plain": [
       "<IPython.core.display.Image object>"
      ]
     },
     "execution_count": 58,
     "metadata": {},
     "output_type": "execute_result"
    }
   ],
   "source": [
    "from IPython.display import Image\n",
    "img = 'IMG_0433.jpg'\n",
    "Image(url=img)"
   ]
  },
  {
   "cell_type": "markdown",
   "metadata": {},
   "source": [
    "### 8. Based on the data in the table, sketch out an approximate potential energy surface for the unimolecular decomposition reaction. Indicate on the PES the location of the reactants, the products, and the transition state. Also indicate relevant zero point energies, the 0 K reaction energy, and the activation energy."
   ]
  },
  {
   "cell_type": "code",
   "execution_count": 59,
   "metadata": {},
   "outputs": [
    {
     "name": "stdout",
     "output_type": "stream",
     "text": [
      "15.542959999898894 is the 0 K reaction energy.\n",
      "0.00925 is ZPE2 0.01422 is ZPE3 & 0.02889 is ZPE1\n",
      "23.598382684134894 is the activation energy.\n"
     ]
    },
    {
     "data": {
      "text/html": [
       "<img src=\"IMG_0432.jpg\"/>"
      ],
      "text/plain": [
       "<IPython.core.display.Image object>"
      ]
     },
     "execution_count": 59,
     "metadata": {},
     "output_type": "execute_result"
    }
   ],
   "source": [
    "print(delta_E_el_kj+ delta_ZPE, 'is the 0 K reaction energy.')\n",
    "print(0.00925,  'is ZPE2', 0.01422, 'is ZPE3', '& 0.02889 is ZPE1')\n",
    "E = delta_u + 2 * kb * T * Nav/1000\n",
    "print(E, 'is the activation energy.')\n",
    "\n",
    "from IPython.display import Image\n",
    "img = 'IMG_0432.jpg'\n",
    "Image(url=img)"
   ]
  },
  {
   "cell_type": "markdown",
   "metadata": {
    "collapsed": true
   },
   "source": [
    "### 9. Using data from the table and harmonic transition state theory, compute the  first-order rate constant for CF$_3$OH decomposition at 298 K, in s$^{-1}$."
   ]
  },
  {
   "cell_type": "code",
   "execution_count": 34,
   "metadata": {},
   "outputs": [],
   "source": [
    "delta_ut = (-412.83771+412.90047 + 0.02313 - 0.02889) * 27.21139 # hartree to eV\n",
    "kb = 1.38065*10**(-23)\n",
    "qt = 7.22e32 * 68420 * 2.28\n",
    "kc_1 = kb*T/h * qt/qa * np.exp(-delta_ut /(T * knew)) # Units of inverse seconds (s^-1)"
   ]
  },
  {
   "cell_type": "markdown",
   "metadata": {},
   "source": [
    "### 10. Which factor in your rate constant dominates the temperature dependence? Estimate the change in temperature necessary to double the rate constant."
   ]
  },
  {
   "cell_type": "markdown",
   "metadata": {},
   "source": [
    "The factor in rate constant that dominates the temperature dependence is in the exponential fuction."
   ]
  },
  {
   "cell_type": "code",
   "execution_count": 36,
   "metadata": {},
   "outputs": [
    {
     "name": "stdout",
     "output_type": "stream",
     "text": [
      "7.529598119788413e-14\n",
      "2.0397678894700544\n"
     ]
    }
   ],
   "source": [
    "kc = kb*301.5/h * qt/qa * np.exp(-delta_ut /(301.5 * knew)) # Units of inverse seconds (s^-1), found using WolframAlpha Nonlinear Solver\n",
    "print(kc)\n",
    "print(kc/kc_1)"
   ]
  },
  {
   "cell_type": "markdown",
   "metadata": {},
   "source": [
    "### 11. Based on your computed rate constant, what is the half-life of the CF$_3$OH in the vessel of Question 4?"
   ]
  },
  {
   "cell_type": "code",
   "execution_count": 40,
   "metadata": {},
   "outputs": [
    {
     "name": "stdout",
     "output_type": "stream",
     "text": [
      "9205633149773.246\n"
     ]
    }
   ],
   "source": [
    "half_life = math.log(2)/kc\n",
    "print(half_life)"
   ]
  },
  {
   "cell_type": "markdown",
   "metadata": {},
   "source": [
    "### 12. Experiments reveal that the CF$_3$OH comes to equilibrium far faster than the unimolecular rate would suggest. Provide a possible explanation for this observation (other than that Schneider calculations are incorrect!)."
   ]
  },
  {
   "cell_type": "markdown",
   "metadata": {},
   "source": [
    "A good explanation for this phenomenon might be that there are two products being made instead of one. A unimolecular reation seems to presume that one product is formed from one reagent, whereas here two molecules are made from one. "
   ]
  }
 ],
 "metadata": {
  "anaconda-cloud": {},
  "kernelspec": {
   "display_name": "Python 3",
   "language": "python",
   "name": "python3"
  },
  "language_info": {
   "codemirror_mode": {
    "name": "ipython",
    "version": 3
   },
   "file_extension": ".py",
   "mimetype": "text/x-python",
   "name": "python",
   "nbconvert_exporter": "python",
   "pygments_lexer": "ipython3",
   "version": "3.6.4"
  }
 },
 "nbformat": 4,
 "nbformat_minor": 1
}
